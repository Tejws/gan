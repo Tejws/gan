{
  "nbformat": 4,
  "nbformat_minor": 0,
  "metadata": {
    "colab": {
      "provenance": []
    },
    "kernelspec": {
      "name": "python3",
      "display_name": "Python 3"
    },
    "language_info": {
      "name": "python"
    }
  },
  "cells": [
    {
      "cell_type": "code",
      "execution_count": 4,
      "metadata": {
        "colab": {
          "base_uri": "https://localhost:8080/"
        },
        "id": "c6Jw-Bk6Zr9C",
        "outputId": "915a663a-740f-4d8a-cc23-6e2768c6d1ea"
      },
      "outputs": [
        {
          "output_type": "stream",
          "name": "stdout",
          "text": [
            "Requirement already satisfied: torch in /usr/local/lib/python3.10/dist-packages (2.5.1+cu121)\n",
            "Collecting torch-geometric\n",
            "  Using cached torch_geometric-2.6.1-py3-none-any.whl.metadata (63 kB)\n",
            "Collecting torch-scatter\n",
            "  Using cached torch_scatter-2.1.2-cp310-cp310-linux_x86_64.whl\n",
            "Collecting torch-sparse\n",
            "  Using cached torch_sparse-0.6.18.tar.gz (209 kB)\n",
            "  Preparing metadata (setup.py) ... \u001b[?25l\u001b[?25hdone\n",
            "Collecting torch-cluster\n",
            "  Using cached torch_cluster-1.6.3.tar.gz (54 kB)\n",
            "  Preparing metadata (setup.py) ... \u001b[?25l\u001b[?25hdone\n",
            "Collecting torch-spline-conv\n",
            "  Using cached torch_spline_conv-1.2.2.tar.gz (25 kB)\n",
            "  Preparing metadata (setup.py) ... \u001b[?25l\u001b[?25hdone\n",
            "Requirement already satisfied: filelock in /usr/local/lib/python3.10/dist-packages (from torch) (3.16.1)\n",
            "Requirement already satisfied: typing-extensions>=4.8.0 in /usr/local/lib/python3.10/dist-packages (from torch) (4.12.2)\n",
            "Requirement already satisfied: networkx in /usr/local/lib/python3.10/dist-packages (from torch) (3.4.2)\n",
            "Requirement already satisfied: jinja2 in /usr/local/lib/python3.10/dist-packages (from torch) (3.1.4)\n",
            "Requirement already satisfied: fsspec in /usr/local/lib/python3.10/dist-packages (from torch) (2024.10.0)\n",
            "Requirement already satisfied: sympy==1.13.1 in /usr/local/lib/python3.10/dist-packages (from torch) (1.13.1)\n",
            "Requirement already satisfied: mpmath<1.4,>=1.1.0 in /usr/local/lib/python3.10/dist-packages (from sympy==1.13.1->torch) (1.3.0)\n",
            "Requirement already satisfied: aiohttp in /usr/local/lib/python3.10/dist-packages (from torch-geometric) (3.11.1)\n",
            "Requirement already satisfied: numpy in /usr/local/lib/python3.10/dist-packages (from torch-geometric) (1.26.4)\n",
            "Requirement already satisfied: psutil>=5.8.0 in /usr/local/lib/python3.10/dist-packages (from torch-geometric) (5.9.5)\n",
            "Requirement already satisfied: pyparsing in /usr/local/lib/python3.10/dist-packages (from torch-geometric) (3.2.0)\n",
            "Requirement already satisfied: requests in /usr/local/lib/python3.10/dist-packages (from torch-geometric) (2.32.3)\n",
            "Requirement already satisfied: tqdm in /usr/local/lib/python3.10/dist-packages (from torch-geometric) (4.66.6)\n",
            "Requirement already satisfied: scipy in /usr/local/lib/python3.10/dist-packages (from torch-sparse) (1.13.1)\n",
            "Requirement already satisfied: aiohappyeyeballs>=2.3.0 in /usr/local/lib/python3.10/dist-packages (from aiohttp->torch-geometric) (2.4.3)\n",
            "Requirement already satisfied: aiosignal>=1.1.2 in /usr/local/lib/python3.10/dist-packages (from aiohttp->torch-geometric) (1.3.1)\n",
            "Requirement already satisfied: attrs>=17.3.0 in /usr/local/lib/python3.10/dist-packages (from aiohttp->torch-geometric) (24.2.0)\n",
            "Requirement already satisfied: frozenlist>=1.1.1 in /usr/local/lib/python3.10/dist-packages (from aiohttp->torch-geometric) (1.5.0)\n",
            "Requirement already satisfied: multidict<7.0,>=4.5 in /usr/local/lib/python3.10/dist-packages (from aiohttp->torch-geometric) (6.1.0)\n",
            "Requirement already satisfied: propcache>=0.2.0 in /usr/local/lib/python3.10/dist-packages (from aiohttp->torch-geometric) (0.2.0)\n",
            "Requirement already satisfied: yarl<2.0,>=1.17.0 in /usr/local/lib/python3.10/dist-packages (from aiohttp->torch-geometric) (1.17.1)\n",
            "Requirement already satisfied: async-timeout<6.0,>=4.0 in /usr/local/lib/python3.10/dist-packages (from aiohttp->torch-geometric) (4.0.3)\n",
            "Requirement already satisfied: MarkupSafe>=2.0 in /usr/local/lib/python3.10/dist-packages (from jinja2->torch) (3.0.2)\n",
            "Requirement already satisfied: charset-normalizer<4,>=2 in /usr/local/lib/python3.10/dist-packages (from requests->torch-geometric) (3.4.0)\n",
            "Requirement already satisfied: idna<4,>=2.5 in /usr/local/lib/python3.10/dist-packages (from requests->torch-geometric) (3.10)\n",
            "Requirement already satisfied: urllib3<3,>=1.21.1 in /usr/local/lib/python3.10/dist-packages (from requests->torch-geometric) (2.2.3)\n",
            "Requirement already satisfied: certifi>=2017.4.17 in /usr/local/lib/python3.10/dist-packages (from requests->torch-geometric) (2024.8.30)\n",
            "Using cached torch_geometric-2.6.1-py3-none-any.whl (1.1 MB)\n",
            "Building wheels for collected packages: torch-sparse, torch-cluster, torch-spline-conv\n",
            "  Building wheel for torch-sparse (setup.py) ... \u001b[?25l\u001b[?25hdone\n",
            "  Created wheel for torch-sparse: filename=torch_sparse-0.6.18-cp310-cp310-linux_x86_64.whl size=1104576 sha256=363e91c7e9ade04a3856f0de85bacdf96bf685f169303766fe07c37e5fffd9bc\n",
            "  Stored in directory: /root/.cache/pip/wheels/c9/dd/0f/a6a16f9f3b0236733d257b4b4ea91b548b984a341ed3b8f38c\n",
            "  Building wheel for torch-cluster (setup.py) ... \u001b[?25l\u001b[?25hdone\n",
            "  Created wheel for torch-cluster: filename=torch_cluster-1.6.3-cp310-cp310-linux_x86_64.whl size=728767 sha256=fcc93664ca420b0ced4e0aa5d66bdcc95ef765c9eab03441b70c9f246fcf331f\n",
            "  Stored in directory: /root/.cache/pip/wheels/51/78/c3/536637b3cdcc3313aa5e8851a6c72b97f6a01877e68c7595e3\n",
            "  Building wheel for torch-spline-conv (setup.py) ... \u001b[?25l\u001b[?25hdone\n",
            "  Created wheel for torch-spline-conv: filename=torch_spline_conv-1.2.2-cp310-cp310-linux_x86_64.whl size=227095 sha256=ea4a40edab100065b026b82b84621b0797ca0db60e71b23c2d6457a7e50606fc\n",
            "  Stored in directory: /root/.cache/pip/wheels/fc/34/be/187e4b5f5ccefecca2c1a5dfc8da244ec50baa1f33c7b8c9a1\n",
            "Successfully built torch-sparse torch-cluster torch-spline-conv\n",
            "Installing collected packages: torch-spline-conv, torch-scatter, torch-sparse, torch-cluster, torch-geometric\n",
            "Successfully installed torch-cluster-1.6.3 torch-geometric-2.6.1 torch-scatter-2.1.2 torch-sparse-0.6.18 torch-spline-conv-1.2.2\n"
          ]
        }
      ],
      "source": [
        "!pip install torch torch-geometric torch-scatter torch-sparse torch-cluster torch-spline-conv\n"
      ]
    },
    {
      "cell_type": "code",
      "source": [
        "import torch\n",
        "import torch.nn as nn\n",
        "import torch.optim as optim\n",
        "from torch_geometric.nn import GCNConv, global_mean_pool # This import will now work\n",
        "from torch_geometric.data import Data, DataLoader\n",
        "\n",
        "# Define the Generator model\n",
        "class Generator(nn.Module):\n",
        "    def __init__(self, input_dim, hidden_dim, output_dim):\n",
        "        super(Generator, self).__init__()\n",
        "        self.fc1 = nn.Linear(input_dim, hidden_dim)\n",
        "        self.gcn = GCNConv(hidden_dim, output_dim)\n",
        "\n",
        "    def forward(self, z, edge_index):\n",
        "        x = torch.relu(self.fc1(z))\n",
        "        return self.gcn(x, edge_index)\n",
        "\n",
        "# Define the Discriminator model\n",
        "class Discriminator(nn.Module):\n",
        "    def __init__(self, input_dim, hidden_dim):\n",
        "        super(Discriminator, self).__init__()\n",
        "        self.gcn1 = GCNConv(input_dim, hidden_dim)\n",
        "        self.fc = nn.Linear(hidden_dim, 1)\n",
        "\n",
        "    def forward(self, x, edge_index, batch):\n",
        "        x = torch.relu(self.gcn1(x, edge_index))\n",
        "        x = global_mean_pool(x, batch)  # Pool to get graph-level embedding\n",
        "        return torch.sigmoid(self.fc(x))\n",
        "\n",
        "# Hyperparameters\n",
        "input_dim = 8  # Smaller latent dimension for faster training\n",
        "hidden_dim = 16\n",
        "output_dim = 8\n",
        "epochs = 20  # Reduced epochs for quicker results\n",
        "batch_size = 8  # Reduced batch size\n",
        "\n",
        "# Initialize Generator and Discriminator\n",
        "generator = Generator(input_dim, hidden_dim, output_dim)\n",
        "discriminator = Discriminator(output_dim, hidden_dim)\n",
        "\n",
        "# Optimizers\n",
        "g_optimizer = optim.Adam(generator.parameters(), lr=0.001)\n",
        "d_optimizer = optim.Adam(discriminator.parameters(), lr=0.001)\n",
        "\n",
        "# Create synthetic graph data (small graphs for faster processing)\n",
        "def generate_real_data(num_nodes=10, feature_dim=8):\n",
        "    edge_index = torch.randint(0, num_nodes, (2, 10))  # Random edges for simplicity\n",
        "    x = torch.randn((num_nodes, feature_dim))  # Random node features\n",
        "    return Data(x=x, edge_index=edge_index)\n",
        "\n",
        "# Training loop\n",
        "for epoch in range(epochs):\n",
        "    real_data = [generate_real_data() for _ in range(batch_size)]\n",
        "    real_loader = DataLoader(real_data, batch_size=batch_size)\n",
        "\n",
        "    for real_graph in real_loader:\n",
        "        # Train Discriminator\n",
        "        z = torch.randn((real_graph.num_nodes, input_dim))  # Random noise\n",
        "        fake_graph = generator(z, real_graph.edge_index)\n",
        "\n",
        "        d_optimizer.zero_grad()\n",
        "        real_pred = discriminator(real_graph.x, real_graph.edge_index, real_graph.batch)\n",
        "        fake_pred = discriminator(fake_graph.detach(), real_graph.edge_index, real_graph.batch)\n",
        "\n",
        "        d_loss = -torch.mean(torch.log(real_pred + 1e-8) + torch.log(1 - fake_pred + 1e-8))\n",
        "        d_loss.backward()\n",
        "        d_optimizer.step()\n",
        "\n",
        "        # Train Generator\n",
        "        g_optimizer.zero_grad()\n",
        "        fake_pred = discriminator(fake_graph, real_graph.edge_index, real_graph.batch)\n",
        "        g_loss = -torch.mean(torch.log(fake_pred + 1e-8))\n",
        "        g_loss.backward()\n",
        "        g_optimizer.step()\n",
        "\n",
        "    # Log progress every epoch\n",
        "    print(f\"Epoch {epoch+1}/{epochs}, D Loss: {d_loss.item():.4f}, G Loss: {g_loss.item():.4f}\")\n"
      ],
      "metadata": {
        "colab": {
          "base_uri": "https://localhost:8080/"
        },
        "id": "6ju5pe93ZvDH",
        "outputId": "e45223b7-0c07-4de7-dc09-116184914094"
      },
      "execution_count": 5,
      "outputs": [
        {
          "output_type": "stream",
          "name": "stderr",
          "text": [
            "/usr/local/lib/python3.10/dist-packages/torch_geometric/deprecation.py:26: UserWarning: 'data.DataLoader' is deprecated, use 'loader.DataLoader' instead\n",
            "  warnings.warn(out)\n"
          ]
        },
        {
          "output_type": "stream",
          "name": "stdout",
          "text": [
            "Epoch 1/20, D Loss: 1.3847, G Loss: 0.5928\n",
            "Epoch 2/20, D Loss: 1.3518, G Loss: 0.5767\n",
            "Epoch 3/20, D Loss: 1.3922, G Loss: 0.5808\n",
            "Epoch 4/20, D Loss: 1.3677, G Loss: 0.6020\n",
            "Epoch 5/20, D Loss: 1.3434, G Loss: 0.5870\n",
            "Epoch 6/20, D Loss: 1.3440, G Loss: 0.5864\n",
            "Epoch 7/20, D Loss: 1.3936, G Loss: 0.5946\n",
            "Epoch 8/20, D Loss: 1.3700, G Loss: 0.5951\n",
            "Epoch 9/20, D Loss: 1.4053, G Loss: 0.5845\n",
            "Epoch 10/20, D Loss: 1.3599, G Loss: 0.5953\n",
            "Epoch 11/20, D Loss: 1.3347, G Loss: 0.5904\n",
            "Epoch 12/20, D Loss: 1.3534, G Loss: 0.5961\n",
            "Epoch 13/20, D Loss: 1.3510, G Loss: 0.5846\n",
            "Epoch 14/20, D Loss: 1.3609, G Loss: 0.5894\n",
            "Epoch 15/20, D Loss: 1.3301, G Loss: 0.5987\n",
            "Epoch 16/20, D Loss: 1.3612, G Loss: 0.5604\n",
            "Epoch 17/20, D Loss: 1.3727, G Loss: 0.5874\n",
            "Epoch 18/20, D Loss: 1.3888, G Loss: 0.5946\n",
            "Epoch 19/20, D Loss: 1.4372, G Loss: 0.5778\n",
            "Epoch 20/20, D Loss: 1.3719, G Loss: 0.5967\n"
          ]
        }
      ]
    },
    {
      "cell_type": "code",
      "source": [],
      "metadata": {
        "id": "Xu3fk5kYtXmo"
      },
      "execution_count": null,
      "outputs": []
    }
  ]
}